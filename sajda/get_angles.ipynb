{
 "cells": [
  {
   "cell_type": "code",
   "execution_count": 50,
   "metadata": {},
   "outputs": [],
   "source": [
    "import mediapipe as mp\n",
    "import cv2\n",
    "import pandas as pd\n",
    "import numpy as np\n",
    "import os\n",
    "\n",
    "import math"
   ]
  },
  {
   "cell_type": "code",
   "execution_count": 51,
   "metadata": {},
   "outputs": [],
   "source": [
    "def calculate_angle(center_landmark, start_landmark, end_landmark):\n",
    "\n",
    "    center = np.array(center_landmark)\n",
    "    start = np.array(start_landmark)\n",
    "    end = np.array(end_landmark)\n",
    "    \n",
    "\n",
    "    vector1 = start - center\n",
    "    vector2 = end - center\n",
    "    \n",
    "\n",
    "    angle_radians = np.arccos(np.dot(vector1, vector2) / (np.linalg.norm(vector1) * np.linalg.norm(vector2)))\n",
    "    \n",
    "\n",
    "    angle_degrees = np.degrees(angle_radians)\n",
    "    \n",
    "    return angle_degrees\n",
    "\n",
    "\n",
    "def draw_selected_landmarks_on_image(rgb_image, landmarks, selected_landmarks, connections):\n",
    "\n",
    "    annotated_image = np.copy(rgb_image)\n",
    "\n",
    "\n",
    "    for index in selected_landmarks:\n",
    "        landmark = landmarks.landmark[index]\n",
    "        x, y, z = landmark.x, landmark.y, landmark.z\n",
    "\n",
    "        x_pixel, y_pixel = int(x * annotated_image.shape[1]), int(y * annotated_image.shape[0])\n",
    "        cv2.circle(annotated_image, (x_pixel, y_pixel), radius=5, color=(0, 255, 0), thickness=-1)\n",
    "    for connection in connections:\n",
    "        start_index, end_index = connection\n",
    "        start_landmark = landmarks.landmark[start_index]\n",
    "        end_landmark = landmarks.landmark[end_index]\n",
    "        start_x, start_y = int(start_landmark.x * annotated_image.shape[1]), int(start_landmark.y * annotated_image.shape[0])\n",
    "        end_x, end_y = int(end_landmark.x * annotated_image.shape[1]), int(end_landmark.y * annotated_image.shape[0])\n",
    "        cv2.line(annotated_image, (start_x, start_y), (end_x, end_y), (0, 255, 0), 2)\n",
    "            \n",
    "\n",
    "    return annotated_image"
   ]
  },
  {
   "cell_type": "code",
   "execution_count": 52,
   "metadata": {},
   "outputs": [],
   "source": [
    "angles_list=[]"
   ]
  },
  {
   "cell_type": "code",
   "execution_count": 53,
   "metadata": {},
   "outputs": [],
   "source": [
    "mp_pose = mp.solutions.pose\n",
    "qiyam_data = []\n",
    "hip_threshold = 160\n",
    "knee_threshold = 160\n",
    "selected_landmarks_indices = [16,14,12,24,26,28,32]\n",
    "selected_landmarks_connections = [(16,14),(14,12),(24,26),(26,28),(12,24),(24,28),(28,32)]\n",
    "\n",
    "video_directory = 'videos'"
   ]
  },
  {
   "cell_type": "code",
   "execution_count": 58,
   "metadata": {},
   "outputs": [],
   "source": [
    "with mp_pose.Pose(static_image_mode=False, min_detection_confidence=0.5, model_complexity=1) as pose:\n",
    "    video_path = r\"C:\\Users\\Wajdan\\Desktop\\WhatsApp Video 2023-11-20 at 19.38.50_eda2e313.mp4\"\n",
    "    cap = cv2.VideoCapture(video_path)\n",
    "    \n",
    "    while cap.isOpened():\n",
    "        ret, frame = cap.read()\n",
    "        if not ret:\n",
    "            break\n",
    "        \n",
    "        frame_rgb = cv2.cvtColor(frame, cv2.COLOR_BGR2RGB)\n",
    "        \n",
    "\n",
    "        results = pose.process(frame_rgb)\n",
    "\n",
    "\n",
    "        \n",
    "        landmark_24 = (results.pose_landmarks.landmark[selected_landmarks_indices[3]].x,\n",
    "                       results.pose_landmarks.landmark[selected_landmarks_indices[3]].y)\n",
    "        landmark_26 = (results.pose_landmarks.landmark[selected_landmarks_indices[4]].x,\n",
    "                       results.pose_landmarks.landmark[selected_landmarks_indices[4]].y)\n",
    "        landmark_28 = (results.pose_landmarks.landmark[selected_landmarks_indices[5]].x,\n",
    "                       results.pose_landmarks.landmark[selected_landmarks_indices[5]].y)\n",
    "\n",
    "\n",
    "        angle = calculate_angle(landmark_26, landmark_24, landmark_28)\n",
    "        angles_list.append((angle,0))\n",
    "\n",
    "\n",
    "    cap.release()\n",
    "    cv2.destroyAllWindows()\n"
   ]
  },
  {
   "cell_type": "code",
   "execution_count": 59,
   "metadata": {},
   "outputs": [],
   "source": [
    "df = pd.DataFrame(angles_list, columns=[\"angle\", \"label\"])"
   ]
  },
  {
   "cell_type": "code",
   "execution_count": 60,
   "metadata": {},
   "outputs": [
    {
     "data": {
      "text/plain": [
       "angle    27.361506\n",
       "label     0.000000\n",
       "dtype: float64"
      ]
     },
     "execution_count": 60,
     "metadata": {},
     "output_type": "execute_result"
    }
   ],
   "source": [
    "df[df['label']==0].mean()"
   ]
  },
  {
   "cell_type": "code",
   "execution_count": 61,
   "metadata": {},
   "outputs": [
    {
     "data": {
      "text/plain": [
       "angle    77.919021\n",
       "label     1.000000\n",
       "dtype: float64"
      ]
     },
     "execution_count": 61,
     "metadata": {},
     "output_type": "execute_result"
    }
   ],
   "source": [
    "df[df['label']==1].mean()\n",
    "# df = df.drop(df[(df['label'] == 1) & (df['angle'] < 170)].index)"
   ]
  },
  {
   "cell_type": "code",
   "execution_count": 30,
   "metadata": {},
   "outputs": [],
   "source": [
    "df.to_csv(r\"C:\\Users\\Wajdan\\Desktop\\Islah.AI-FinalYearProject-ComputerVision\\sajda\\knee-train.csv\", index=False)"
   ]
  },
  {
   "cell_type": "code",
   "execution_count": null,
   "metadata": {},
   "outputs": [],
   "source": [
    "with mp_pose.Pose(static_image_mode=False, min_detection_confidence=0.5, model_complexity=1) as pose:\n",
    "    video_path = r\"C:\\Users\\Wajdan\\Desktop\\WhatsApp Video 2023-11-20 at 19.38.50_eda2e313.mp4\"\n",
    "    cap = cv2.VideoCapture(video_path)\n",
    "    \n",
    "    while cap.isOpened():\n",
    "        ret, frame = cap.read()\n",
    "        if not ret:\n",
    "            break\n",
    "        \n",
    "        frame_rgb = cv2.cvtColor(frame, cv2.COLOR_BGR2RGB)\n",
    "        \n",
    "\n",
    "        results = pose.process(frame_rgb)\n",
    "\n",
    "\n",
    "        \n",
    "        landmark_28 = (results.pose_landmarks.landmark[selected_landmarks_indices[5]].x,\n",
    "                       results.pose_landmarks.landmark[selected_landmarks_indices[5]].y)\n",
    "        landmark_24 = (results.pose_landmarks.landmark[selected_landmarks_indices[3]].x,\n",
    "                       results.pose_landmarks.landmark[selected_landmarks_indices[3]].y)\n",
    "        landmark_26 = (results.pose_landmarks.landmark[selected_landmarks_indices[4]].x,\n",
    "                       results.pose_landmarks.landmark[selected_landmarks_indices[4]].y)\n",
    "\n",
    "\n",
    "        angle = calculate_angle(landmark_26, landmark_24, landmark_28)\n",
    "        frame = draw_selected_landmarks_on_image(frame, results.pose_landmarks,selected_landmarks_indices, selected_landmarks_connections)\n",
    "\n",
    "        angle_text = f\"{angle:.2f}\"\n",
    "            \n",
    "\n",
    "        font = cv2.FONT_HERSHEY_SIMPLEX\n",
    "        font_scale = 1\n",
    "        font_thickness = 2\n",
    "        line_spacing = 10\n",
    "        text_size = cv2.getTextSize(angle_text, font, font_scale, font_thickness)[0]\n",
    "        text_width = text_size[0]\n",
    "        text_height =  10\n",
    "        text_x = 10\n",
    "        text_y = text_height + 10\n",
    "        cv2.rectangle(frame, (text_x, text_y - text_height), (text_x + text_width, text_y), (0, 0, 0), -1)\n",
    "\n",
    "        cv2.putText(frame, angle_text, (text_x, text_y), font, font_scale, (0, 0, 255), font_thickness, cv2.LINE_AA)\n",
    "\n",
    "        cv2.imshow('Annotated Frame', frame)\n",
    "\n",
    "        if cv2.waitKey(1) & 0xFF == ord('q'):\n",
    "            break\n",
    "\n",
    "\n",
    "    cap.release()\n",
    "    cv2.destroyAllWindows()\n"
   ]
  }
 ],
 "metadata": {
  "kernelspec": {
   "display_name": "Python 3",
   "language": "python",
   "name": "python3"
  },
  "language_info": {
   "codemirror_mode": {
    "name": "ipython",
    "version": 3
   },
   "file_extension": ".py",
   "mimetype": "text/x-python",
   "name": "python",
   "nbconvert_exporter": "python",
   "pygments_lexer": "ipython3",
   "version": "3.11.4"
  }
 },
 "nbformat": 4,
 "nbformat_minor": 2
}
