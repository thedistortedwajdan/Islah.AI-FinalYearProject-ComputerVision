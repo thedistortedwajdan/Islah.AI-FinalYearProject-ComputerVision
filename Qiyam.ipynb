{
 "cells": [
  {
   "cell_type": "code",
   "execution_count": null,
   "metadata": {},
   "outputs": [],
   "source": [
    "farooq shayad, jawed qureshi, atif mehmood, tahir tahir\n",
    "saud shakel ka cousin"
   ]
  }
 ],
 "metadata": {
  "language_info": {
   "name": "python"
  }
 },
 "nbformat": 4,
 "nbformat_minor": 2
}
