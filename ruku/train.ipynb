{
 "cells": [
  {
   "cell_type": "code",
   "execution_count": 50,
   "metadata": {},
   "outputs": [],
   "source": [
    "import mediapipe as mp\n",
    "import cv2\n",
    "import pandas as pd\n",
    "import numpy as np\n",
    "import os\n",
    "import math\n",
    "\n",
    "from sklearn.model_selection import train_test_split\n",
    "from sklearn.ensemble import RandomForestClassifier\n",
    "from sklearn.metrics import accuracy_score, confusion_matrix, precision_score, recall_score,f1_score\n",
    "import joblib\n",
    "\n",
    "from sklearn.linear_model import LogisticRegression\n",
    "from sklearn.svm import SVC\n",
    "\n",
    "from sklearn.neighbors import KNeighborsClassifier\n"
   ]
  },
  {
   "cell_type": "code",
   "execution_count": 51,
   "metadata": {},
   "outputs": [],
   "source": [
    "def calculate_angle(center_landmark, start_landmark, end_landmark):\n",
    "\n",
    "    center = np.array(center_landmark)\n",
    "    start = np.array(start_landmark)\n",
    "    end = np.array(end_landmark)\n",
    "    \n",
    "\n",
    "    vector1 = start - center\n",
    "    vector2 = end - center\n",
    "    \n",
    "\n",
    "    angle_radians = np.arccos(np.dot(vector1, vector2) / (np.linalg.norm(vector1) * np.linalg.norm(vector2)))\n",
    "    \n",
    "\n",
    "    angle_degrees = np.degrees(angle_radians)\n",
    "    \n",
    "    return angle_degrees\n",
    "\n",
    "\n",
    "def draw_selected_landmarks_on_image(rgb_image, landmarks, selected_landmarks, connections):\n",
    "\n",
    "    annotated_image = np.copy(rgb_image)\n",
    "\n",
    "\n",
    "    for index in selected_landmarks:\n",
    "        landmark = landmarks.landmark[index]\n",
    "        x, y, z = landmark.x, landmark.y, landmark.z\n",
    "\n",
    "        x_pixel, y_pixel = int(x * annotated_image.shape[1]), int(y * annotated_image.shape[0])\n",
    "        cv2.circle(annotated_image, (x_pixel, y_pixel), radius=5, color=(0, 255, 0), thickness=-1)\n",
    "    for connection in connections:\n",
    "        start_index, end_index = connection\n",
    "        start_landmark = landmarks.landmark[start_index]\n",
    "        end_landmark = landmarks.landmark[end_index]\n",
    "        start_x, start_y = int(start_landmark.x * annotated_image.shape[1]), int(start_landmark.y * annotated_image.shape[0])\n",
    "        end_x, end_y = int(end_landmark.x * annotated_image.shape[1]), int(end_landmark.y * annotated_image.shape[0])\n",
    "        cv2.line(annotated_image, (start_x, start_y), (end_x, end_y), (0, 255, 0), 2)\n",
    "            \n",
    "\n",
    "    return annotated_image"
   ]
  },
  {
   "cell_type": "code",
   "execution_count": 52,
   "metadata": {},
   "outputs": [],
   "source": [
    "mp_pose = mp.solutions.pose\n",
    "selected_landmarks_indices = [16,14,12,24,26,28,32]\n",
    "selected_landmarks_connections = [(16,14),(14,12),(24,26),(26,28),(12,24),(24,28),(28,32)]"
   ]
  },
  {
   "cell_type": "code",
   "execution_count": 53,
   "metadata": {},
   "outputs": [],
   "source": [
    "data=pd.read_csv('hand-train.csv')"
   ]
  },
  {
   "cell_type": "code",
   "execution_count": 54,
   "metadata": {},
   "outputs": [],
   "source": [
    "X = data[['angle']]\n",
    "y = data['label']\n",
    "\n",
    "X_train, X_temp, y_train, y_temp = train_test_split(X, y, test_size=0.2, random_state=42)\n",
    "X_val, X_test, y_val, y_test = train_test_split(X_temp, y_temp, test_size=0.5, random_state=42)\n",
    "\n",
    "clf = RandomForestClassifier(random_state=42)"
   ]
  },
  {
   "cell_type": "code",
   "execution_count": 55,
   "metadata": {},
   "outputs": [
    {
     "name": "stdout",
     "output_type": "stream",
     "text": [
      "Training accuracy: 1.0000\n",
      "Validation accuracy: 0.9538\n",
      "Test accuracy: 0.9248\n",
      "\n",
      "Confusion Matrix:\n",
      "[[190  25]\n",
      " [  6 191]]\n",
      "\n",
      "Precision: 0.8843\n",
      "Recall: 0.9695\n"
     ]
    }
   ],
   "source": [
    "clf.fit(X_train, y_train)\n",
    "\n",
    "train_preds = clf.predict(X_train)\n",
    "val_preds = clf.predict(X_val)\n",
    "test_preds = clf.predict(X_test)\n",
    "\n",
    "train_acc = accuracy_score(y_train, train_preds)\n",
    "val_acc = accuracy_score(y_val, val_preds)\n",
    "test_acc = accuracy_score(y_test, test_preds)\n",
    "\n",
    "conf_matrix = confusion_matrix(y_test, test_preds)\n",
    "\n",
    "precision = precision_score(y_test, test_preds)\n",
    "recall = recall_score(y_test, test_preds)\n",
    "\n",
    "print(f\"Training accuracy: {train_acc:.4f}\")\n",
    "print(f\"Validation accuracy: {val_acc:.4f}\")\n",
    "print(f\"Test accuracy: {test_acc:.4f}\")\n",
    "print(\"\\nConfusion Matrix:\")\n",
    "print(conf_matrix)\n",
    "print(f\"\\nPrecision: {precision:.4f}\")\n",
    "print(f\"Recall: {recall:.4f}\")"
   ]
  },
  {
   "cell_type": "code",
   "execution_count": 56,
   "metadata": {},
   "outputs": [
    {
     "data": {
      "text/plain": [
       "['qaadah_hand_RandomForest.pkl']"
      ]
     },
     "execution_count": 56,
     "metadata": {},
     "output_type": "execute_result"
    }
   ],
   "source": [
    "joblib.dump(clf, 'qaadah_hand_RandomForest.pkl')"
   ]
  },
  {
   "cell_type": "code",
   "execution_count": 57,
   "metadata": {},
   "outputs": [],
   "source": [
    "# data = pd.read_csv('knee-train.csv')\n",
    "\n",
    "X = data[['angle']]\n",
    "y = data['label']\n",
    "\n",
    "X_train, X_test, y_train, y_test = train_test_split(X, y, test_size=0.2)\n",
    "\n",
    "model = LogisticRegression()\n"
   ]
  },
  {
   "cell_type": "code",
   "execution_count": 58,
   "metadata": {},
   "outputs": [
    {
     "name": "stdout",
     "output_type": "stream",
     "text": [
      "Train accuracy: 0.9735642661804923\n",
      "Validation accuracy: 0.9878493317132442\n",
      "Confusion matrix:\n",
      "[[459  10]\n",
      " [  0 354]]\n",
      "Precision: 0.9725274725274725\n",
      "Recall: 1.0\n",
      "F1-score: 0.9860724233983287\n"
     ]
    }
   ],
   "source": [
    "model.fit(X_train, y_train)\n",
    "\n",
    "y_pred = model.predict(X_test)\n",
    "\n",
    "train_acc = accuracy_score(y_train, model.predict(X_train))\n",
    "val_acc = accuracy_score(y_test, y_pred)\n",
    "\n",
    "print('Train accuracy:', train_acc)\n",
    "print('Validation accuracy:', val_acc)\n",
    "\n",
    "conf_matrix = confusion_matrix(y_test, y_pred)\n",
    "print('Confusion matrix:')\n",
    "print(conf_matrix)\n",
    "\n",
    "precision = precision_score(y_test, y_pred)\n",
    "print('Precision:', precision)\n",
    "\n",
    "recall = recall_score(y_test, y_pred)\n",
    "print('Recall:', recall)\n",
    "\n",
    "f1 = f1_score(y_test, y_pred)\n",
    "print('F1-score:', f1)"
   ]
  },
  {
   "cell_type": "code",
   "execution_count": 59,
   "metadata": {},
   "outputs": [
    {
     "data": {
      "text/plain": [
       "['qaadah_hand_LogisticRegression.pkl']"
      ]
     },
     "execution_count": 59,
     "metadata": {},
     "output_type": "execute_result"
    }
   ],
   "source": [
    "joblib.dump(model, 'qaadah_hand_LogisticRegression.pkl')"
   ]
  },
  {
   "cell_type": "code",
   "execution_count": 60,
   "metadata": {},
   "outputs": [
    {
     "name": "stderr",
     "output_type": "stream",
     "text": [
      "c:\\Users\\Wajdan\\AppData\\Local\\Programs\\Python\\Python311\\Lib\\site-packages\\sklearn\\base.py:464: UserWarning: X does not have valid feature names, but LogisticRegression was fitted with feature names\n",
      "  warnings.warn(\n"
     ]
    }
   ],
   "source": [
    "X = data['angle'].values.reshape(-1, 1)  # Reshape to 2D array for fitting\n",
    "y = data['label'].values\n",
    "\n",
    "# Split the data into training and testing sets\n",
    "X_train, X_test, y_train, y_test = train_test_split(X, y, test_size=0.2, random_state=42)\n",
    "\n",
    "# Create and fit the SVM model\n",
    "svc = SVC()\n",
    "svc.fit(X_train, y_train)\n",
    "\n",
    "# Make predictions on the test set\n",
    "y_pred = svc.predict(X_test)\n",
    "\n",
    "# Evaluate the model's performance\n",
    "train_acc = accuracy_score(y_train, model.predict(X_train))\n",
    "test_acc = accuracy_score(y_test, y_pred)\n",
    "conf_matrix = confusion_matrix(y_test, y_pred)\n",
    "precision = precision_score(y_test, y_pred)\n",
    "recall = recall_score(y_test, y_pred)"
   ]
  },
  {
   "cell_type": "code",
   "execution_count": 61,
   "metadata": {},
   "outputs": [
    {
     "name": "stdout",
     "output_type": "stream",
     "text": [
      "Training accuracy: 0.9829838954725008\n",
      "Testing accuracy: 0.9501822600243013\n",
      "Confusion matrix:\n",
      " [[404  41]\n",
      " [  0 378]]\n",
      "Precision: 0.9021479713603818\n",
      "Recall: 1.0\n"
     ]
    }
   ],
   "source": [
    "print(\"Training accuracy:\", train_acc)\n",
    "print(\"Testing accuracy:\", test_acc)\n",
    "print(\"Confusion matrix:\\n\", conf_matrix)\n",
    "print(\"Precision:\", precision)\n",
    "print(\"Recall:\", recall)"
   ]
  },
  {
   "cell_type": "code",
   "execution_count": 62,
   "metadata": {},
   "outputs": [
    {
     "data": {
      "text/plain": [
       "['qaadah_hand_SVM.pkl']"
      ]
     },
     "execution_count": 62,
     "metadata": {},
     "output_type": "execute_result"
    }
   ],
   "source": [
    "joblib.dump(svc, \"qaadah_hand_SVM.pkl\")"
   ]
  },
  {
   "cell_type": "code",
   "execution_count": 63,
   "metadata": {},
   "outputs": [
    {
     "name": "stdout",
     "output_type": "stream",
     "text": [
      "Validation Accuracy: 0.9635\n",
      "Test Accuracy: 0.9369\n",
      "Train Accuracy: 0.9830\n",
      "Confusion Matrix:\n",
      "[[189  26]\n",
      " [  0 197]]\n",
      "Precision: 0.8834\n",
      "Recall: 1.0000\n"
     ]
    }
   ],
   "source": [
    "X = data[['angle']]  # Independent variable\n",
    "y = data['label']    # Dependent variable\n",
    "\n",
    "# Split the data into train, validation, and test sets (80% train, 10% validation, 10% test)\n",
    "X_train, X_temp, y_train, y_temp = train_test_split(X, y, test_size=0.2, random_state=42)\n",
    "X_val, X_test, y_val, y_test = train_test_split(X_temp, y_temp, test_size=0.5, random_state=42)\n",
    "\n",
    "# Initialize the K-Nearest Neighbors Classifier with k=5 (you can modify k as needed)\n",
    "knn = KNeighborsClassifier(n_neighbors=7)\n",
    "\n",
    "# Train the model\n",
    "knn.fit(X_train, y_train)\n",
    "\n",
    "# Predict on validation set\n",
    "val_predictions = knn.predict(X_val)\n",
    "\n",
    "# Calculate validation accuracy\n",
    "val_acc = accuracy_score(y_val, val_predictions)\n",
    "print(f'Validation Accuracy: {val_acc:.4f}')\n",
    "\n",
    "# Predict on test set\n",
    "test_predictions = knn.predict(X_test)\n",
    "\n",
    "# Calculate test accuracy\n",
    "test_acc = accuracy_score(y_test, test_predictions)\n",
    "print(f'Test Accuracy: {test_acc:.4f}')\n",
    "\n",
    "# Calculate train accuracy\n",
    "train_predictions = knn.predict(X_train)\n",
    "train_acc = accuracy_score(y_train, train_predictions)\n",
    "print(f'Train Accuracy: {train_acc:.4f}')\n",
    "\n",
    "# Confusion matrix\n",
    "conf_matrix = confusion_matrix(y_test, test_predictions)\n",
    "print('Confusion Matrix:')\n",
    "print(conf_matrix)\n",
    "\n",
    "# Precision and recall\n",
    "precision = precision_score(y_test, test_predictions)\n",
    "recall = recall_score(y_test, test_predictions)\n",
    "print(f'Precision: {precision:.4f}')\n",
    "print(f'Recall: {recall:.4f}')"
   ]
  },
  {
   "cell_type": "code",
   "execution_count": 64,
   "metadata": {},
   "outputs": [
    {
     "data": {
      "text/plain": [
       "['qaadah_hand_knn.pkl']"
      ]
     },
     "execution_count": 64,
     "metadata": {},
     "output_type": "execute_result"
    }
   ],
   "source": [
    "joblib.dump(knn, \"qaadah_hand_knn.pkl\")"
   ]
  },
  {
   "cell_type": "code",
   "execution_count": null,
   "metadata": {},
   "outputs": [],
   "source": []
  }
 ],
 "metadata": {
  "kernelspec": {
   "display_name": "Python 3",
   "language": "python",
   "name": "python3"
  },
  "language_info": {
   "codemirror_mode": {
    "name": "ipython",
    "version": 3
   },
   "file_extension": ".py",
   "mimetype": "text/x-python",
   "name": "python",
   "nbconvert_exporter": "python",
   "pygments_lexer": "ipython3",
   "version": "3.11.4"
  }
 },
 "nbformat": 4,
 "nbformat_minor": 2
}
